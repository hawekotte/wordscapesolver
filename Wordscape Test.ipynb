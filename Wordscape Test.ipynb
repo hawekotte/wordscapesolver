{
 "cells": [
  {
   "cell_type": "code",
   "execution_count": 1,
   "metadata": {},
   "outputs": [],
   "source": [
    "import autotime\n",
    "%load_ext autotime\n",
    "\n",
    "%matplotlib inline"
   ]
  },
  {
   "cell_type": "code",
   "execution_count": 412,
   "metadata": {},
   "outputs": [
    {
     "name": "stdout",
     "output_type": "stream",
     "text": [
      "time: 6.92 ms\n"
     ]
    }
   ],
   "source": [
    "from PIL import Image\n",
    "from pytesseract import image_to_string\n",
    "\n",
    "import numpy as np\n",
    "from unidecode import unidecode\n",
    "\n",
    "import os\n",
    "import sys\n",
    "\n",
    "from matplotlib.pyplot import imshow\n",
    "import matplotlib.pyplot as plt\n",
    "\n",
    "from skimage import measure\n",
    "\n",
    "import enchant\n",
    "\n",
    "from itertools import permutations, combinations, chain\n",
    "\n",
    "import time\n",
    "\n",
    "import copy"
   ]
  },
  {
   "cell_type": "code",
   "execution_count": 468,
   "metadata": {},
   "outputs": [
    {
     "name": "stdout",
     "output_type": "stream",
     "text": [
      "\n",
      "time: 1.85 s\n"
     ]
    }
   ],
   "source": [
    "# Grab screenshot from adb\n",
    "output_code = os.system(\"adb exec-out screencap -p > /MAKE/THIS/YOUR/DESIRED/LOCAL/PATH/screen.png\") # This location is used in the next block"
   ]
  },
  {
   "cell_type": "code",
   "execution_count": 469,
   "metadata": {},
   "outputs": [
    {
     "name": "stdout",
     "output_type": "stream",
     "text": [
      "[['E', (1082, 540)], ['B', (1202, 331)], ['D', (1202, 748)], ['R', (1443, 330)], ['I', (1442, 747)], ['I', (1562, 539)]]\n",
      "NUM WORDS: 21\n"
     ]
    },
    {
     "data": {
      "image/png": "[encoded data removed]",
      "text/plain": [
       "<matplotlib.figure.Figure at 0x13014c5d0>"
      ]
     },
     "metadata": {},
     "output_type": "display_data"
    },
    {
     "name": "stdout",
     "output_type": "stream",
     "text": [
      "time: 1.87 s\n"
     ]
    }
   ],
   "source": [
    "# Open the screenshot\n",
    "img = Image.open('./screen.png')\n",
    "# Crop where we have (column, row, width, height) of crop\n",
    "# new_img = img\n",
    "# new_img = img.crop((475, 1000, img.size[0]-475, 1150)) #img.size[0] should be 1080\n",
    "\n",
    "# Crop tuple:(left, upper, right, lower)\n",
    "crop_tuple = (245, 1000, 835, 1630)\n",
    "new_img = img.crop(crop_tuple) #img.size[0] should be 1080\n",
    "\n",
    "# Convert to black and white\n",
    "gray = new_img.convert('L')\n",
    "bw = gray.point(lambda x: 255 if x>0 else 0, '1')\n",
    "imshow(bw)\n",
    "\n",
    "# imshow(np.asarray(new_img))\n",
    "# width = 100\n",
    "# new_img = np.pad(np.asarray(new_img), ((width, width), (width, width), (0, 0)), 'constant', constant_values=(0, 0))\n",
    "# imshow(bw)\n",
    "\n",
    "# Get the connected components (letters)\n",
    "blobs = measure.label(np.asarray(bw))\n",
    "\n",
    "# Snag all admissable letters (since we have some letters that have holes in them like 'A')\n",
    "admissable_bboxes = []\n",
    "for blob in measure.regionprops(blobs):\n",
    "    minr, minc, maxr, maxc = blob.bbox\n",
    "    new_bbox = np.array([minr, maxr, minc, maxc])\n",
    "    do_store = True\n",
    "    for bbox in admissable_bboxes:\n",
    "        if minr >= bbox[0] and maxr <= bbox[1] and minc >= bbox[2] and maxc <= bbox[3]:\n",
    "            do_store = False\n",
    "            break\n",
    "    if do_store:\n",
    "        admissable_bboxes.append(new_bbox)\n",
    "\n",
    "#Get the letters of the components\n",
    "letters = []\n",
    "# letters_loc = {}\n",
    "for blob in measure.regionprops(blobs):\n",
    "    minr, minc, maxr, maxc = blob.bbox\n",
    "    if str(np.array([minr, maxr, minc, maxc])) in [str(x) for x in admissable_bboxes]:\n",
    "        shape = (maxr-minr+1, maxc-minc+75)\n",
    "        loc = (int((maxr+minr)/2) + crop_tuple[1], int((maxc+minc)/2) + crop_tuple[0]) # spot of the letter in the original image\n",
    "        tmp_letter = np.asarray(bw)[minr:maxr, minc:maxc].astype('uint8') + 255\n",
    "        vert_pad = int((shape[0]-tmp_letter.shape[0])/2)\n",
    "        horz_pad = int((shape[1]-tmp_letter.shape[1])/2)\n",
    "        tmp_letter = np.pad(tmp_letter, ((vert_pad, vert_pad), (horz_pad, horz_pad)), 'constant', constant_values=(0, 0))\n",
    "        tmp_letter_img = Image.fromarray(tmp_letter)\n",
    "        # Try to use OCR to convert it\n",
    "        letter = str(image_to_string(tmp_letter_img, lang='eng', config='-psm 10')).upper()\n",
    "        letters.append([letter, loc])\n",
    "#         letters_loc[letter] = loc\n",
    "# letters = np.array(letters)\n",
    "print letters\n",
    "# print letters_loc\n",
    "#     imshow(tmp_letter_img)\n",
    "\n",
    "# Find all possible words\n",
    "d = enchant.Dict(\"en_US\")\n",
    "words = []\n",
    "only_letters = [x[0] for x in letters]\n",
    "for test_letters in chain.from_iterable(combinations(only_letters,n) for n in range(3,len(only_letters)+1)):\n",
    "    for i in permutations(''.join(test_letters)):\n",
    "        if d.check(''.join(i).lower()):\n",
    "#             print ''.join(i)\n",
    "            words.append(i)\n",
    "words = np.unique(np.array(words))\n",
    "print 'NUM WORDS:', words.shape[0]"
   ]
  },
  {
   "cell_type": "code",
   "execution_count": 470,
   "metadata": {
    "scrolled": false
   },
   "outputs": [
    {
     "name": "stdout",
     "output_type": "stream",
     "text": [
      "BED --- BID --- BIDE --- BIDER --- BIER --- BIRD --- BIRDIE --- BRED --- BRIDE --- DEB --- DIE --- DIRE ---"
     ]
    },
    {
     "ename": "KeyboardInterrupt",
     "evalue": "",
     "output_type": "error",
     "traceback": [
      "\u001b[0;31m---------------------------------------------------------------------------\u001b[0m",
      "\u001b[0;31mKeyboardInterrupt\u001b[0m                         Traceback (most recent call last)",
      "\u001b[0;32m<ipython-input-470-3669de51c66b>\u001b[0m in \u001b[0;36m<module>\u001b[0;34m()\u001b[0m\n\u001b[1;32m     26\u001b[0m         \u001b[0;31m# Do command stuffs\u001b[0m\u001b[0;34m\u001b[0m\u001b[0;34m\u001b[0m\u001b[0m\n\u001b[1;32m     27\u001b[0m         \u001b[0mcommand\u001b[0m \u001b[0;34m=\u001b[0m \u001b[0;34m'adb shell \"input touchscreen swipe {0} {1} {2} {3} & input command touchscreen swipe {0} {1} {2} {3}\"'\u001b[0m\u001b[0;34m.\u001b[0m\u001b[0mformat\u001b[0m\u001b[0;34m(\u001b[0m\u001b[0mcurr_loc\u001b[0m\u001b[0;34m[\u001b[0m\u001b[0;36m1\u001b[0m\u001b[0;34m]\u001b[0m\u001b[0;34m,\u001b[0m \u001b[0mcurr_loc\u001b[0m\u001b[0;34m[\u001b[0m\u001b[0;36m0\u001b[0m\u001b[0;34m]\u001b[0m\u001b[0;34m,\u001b[0m \u001b[0mnext_loc\u001b[0m\u001b[0;34m[\u001b[0m\u001b[0;36m1\u001b[0m\u001b[0;34m]\u001b[0m\u001b[0;34m,\u001b[0m \u001b[0mnext_loc\u001b[0m\u001b[0;34m[\u001b[0m\u001b[0;36m0\u001b[0m\u001b[0;34m]\u001b[0m\u001b[0;34m)\u001b[0m\u001b[0;34m\u001b[0m\u001b[0m\n\u001b[0;32m---> 28\u001b[0;31m         \u001b[0mtime\u001b[0m\u001b[0;34m.\u001b[0m\u001b[0msleep\u001b[0m\u001b[0;34m(\u001b[0m\u001b[0;36m0.6\u001b[0m\u001b[0;34m)\u001b[0m\u001b[0;34m\u001b[0m\u001b[0m\n\u001b[0m\u001b[1;32m     29\u001b[0m         \u001b[0mos\u001b[0m\u001b[0;34m.\u001b[0m\u001b[0msystem\u001b[0m\u001b[0;34m(\u001b[0m\u001b[0mcommand\u001b[0m\u001b[0;34m)\u001b[0m\u001b[0;34m\u001b[0m\u001b[0m\n\u001b[1;32m     30\u001b[0m     \u001b[0;31m# End the tapping\u001b[0m\u001b[0;34m\u001b[0m\u001b[0;34m\u001b[0m\u001b[0m\n",
      "\u001b[0;31mKeyboardInterrupt\u001b[0m: "
     ]
    },
    {
     "name": "stdout",
     "output_type": "stream",
     "text": [
      "time: 1min 12s\n"
     ]
    }
   ],
   "source": [
    "for word in words:\n",
    "    letters_copy = copy.deepcopy(letters)\n",
    "    print ''.join(word), '---',\n",
    "    # Drag out the word\n",
    "    for index, curr_letter in enumerate(word[:-1]):\n",
    "#         curr_loc = letters_loc[letter]\n",
    "#         next_loc = letters_loc[word[index + 1]]\n",
    "\n",
    "        # List of what letters remain\n",
    "        only_letters = [x[0] for x in letters_copy]\n",
    "        \n",
    "        # Get the current letter index and thus location\n",
    "        curr_letter_index = only_letters.index(curr_letter)\n",
    "        curr_loc = letters_copy[curr_letter_index][1]\n",
    "        \n",
    "        # Remove the current letter just in case it pops up again        \n",
    "        letters_copy.pop(curr_letter_index)\n",
    "        \n",
    "        # Reset the letters that remain\n",
    "        only_letters = [x[0] for x in letters_copy]\n",
    "        \n",
    "        # Get the next letter index and thus location\n",
    "        next_letter_index = only_letters.index(word[index + 1])\n",
    "        next_loc = letters_copy[next_letter_index][1]\n",
    "                \n",
    "        # Do command stuffs\n",
    "        command = 'adb shell \"input touchscreen swipe {0} {1} {2} {3} & input command touchscreen swipe {0} {1} {2} {3}\"'.format(curr_loc[1], curr_loc[0], next_loc[1], next_loc[0])\n",
    "        time.sleep(0.6)\n",
    "        os.system(command)\n",
    "    # End the tapping\n",
    "    time.sleep(0.3)\n",
    "    command = 'adb shell input touchscreen swipe {0} {1} {2} {3}'.format(next_loc[1], next_loc[0], next_loc[1], next_loc[0])\n",
    "    os.system(command)\n",
    "    time.sleep(0.1)\n",
    "    "
   ]
  },
  {
   "cell_type": "code",
   "execution_count": null,
   "metadata": {},
   "outputs": [],
   "source": []
  },
  {
   "cell_type": "code",
   "execution_count": null,
   "metadata": {},
   "outputs": [],
   "source": []
  },
  {
   "cell_type": "code",
   "execution_count": null,
   "metadata": {},
   "outputs": [],
   "source": []
  },
  {
   "cell_type": "code",
   "execution_count": null,
   "metadata": {},
   "outputs": [],
   "source": []
  }
 ],
 "metadata": {
  "kernelspec": {
   "display_name": "Python 2",
   "language": "python",
   "name": "python2"
  },
  "language_info": {
   "codemirror_mode": {
    "name": "ipython",
    "version": 2
   },
   "file_extension": ".py",
   "mimetype": "text/x-python",
   "name": "python",
   "nbconvert_exporter": "python",
   "pygments_lexer": "ipython2",
   "version": "2.7.13"
  }
 },
 "nbformat": 4,
 "nbformat_minor": 2
}
